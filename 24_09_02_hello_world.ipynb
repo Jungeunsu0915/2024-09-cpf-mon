{
  "nbformat": 4,
  "nbformat_minor": 0,
  "metadata": {
    "colab": {
      "provenance": []
    },
    "kernelspec": {
      "name": "python3",
      "display_name": "Python 3"
    },
    "language_info": {
      "name": "python"
    }
  },
  "cells": [
    {
      "cell_type": "code",
      "execution_count": 4,
      "metadata": {
        "colab": {
          "base_uri": "https://localhost:8080/"
        },
        "id": "OStcrQdwarAg",
        "outputId": "ae4f6087-d8fd-47ce-9af9-cd2cdd677feb"
      },
      "outputs": [
        {
          "output_type": "stream",
          "name": "stdout",
          "text": [
            "이번학기에도 무언가 새로운 것을 배워 봅시다\n"
          ]
        }
      ],
      "source": [
        "print(\"이번학기에도 무언가 새로운 것을 배워 봅시다\")"
      ]
    },
    {
      "cell_type": "code",
      "source": [],
      "metadata": {
        "id": "W06PVj_iax8B"
      },
      "execution_count": 1,
      "outputs": []
    }
  ]
}